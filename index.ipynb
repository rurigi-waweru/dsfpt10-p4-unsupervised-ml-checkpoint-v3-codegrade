{
 "cells": [
  {
   "cell_type": "code",
   "execution_count": null,
   "id": "d9d688df",
   "metadata": {},
   "outputs": [],
   "source": [
    "txt = '                                                                                                                                                                                                                                                                                                                                                              '\n",
    "len(txt)"
   ]
  }
 ],
 "metadata": {
  "kernelspec": {
   "display_name": "learn-env",
   "language": "python",
   "name": "python3"
  },
  "language_info": {
   "name": "python",
   "version": "3.8.5"
  }
 },
 "nbformat": 4,
 "nbformat_minor": 5
}
